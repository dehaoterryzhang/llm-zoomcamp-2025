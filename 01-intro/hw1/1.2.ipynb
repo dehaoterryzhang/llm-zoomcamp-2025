{
 "cells": [
  {
   "cell_type": "code",
   "execution_count": 1,
   "id": "a61403dc-99f6-435d-a8d4-790b8c2caf50",
   "metadata": {},
   "outputs": [],
   "source": [
    "import openai"
   ]
  },
  {
   "cell_type": "code",
   "execution_count": null,
   "id": "5f44b9d6-2a23-42ef-b139-e6e84c4bf021",
   "metadata": {},
   "outputs": [],
   "source": [
    "#from openai import OpenAI"
   ]
  },
  {
   "cell_type": "code",
   "execution_count": 2,
   "id": "6fad038c-4c0a-4306-8708-3e71b3933417",
   "metadata": {},
   "outputs": [],
   "source": [
    "import os\n",
    "from dotenv import load_dotenv"
   ]
  },
  {
   "cell_type": "code",
   "execution_count": 3,
   "id": "fa1c8013-e50a-41c8-83da-a4fab89ac2ea",
   "metadata": {},
   "outputs": [
    {
     "data": {
      "text/plain": [
       "True"
      ]
     },
     "execution_count": 3,
     "metadata": {},
     "output_type": "execute_result"
    }
   ],
   "source": [
    "load_dotenv(os.path.abspath(\"../../.env\"))"
   ]
  },
  {
   "cell_type": "code",
   "execution_count": null,
   "id": "33da1b30-f2b6-40d5-952f-616a47a10e37",
   "metadata": {},
   "outputs": [],
   "source": [
    "#client = OpenAI(api_key = os.getenv(\"OPENAI_API_KEY\"))"
   ]
  },
  {
   "cell_type": "code",
   "execution_count": null,
   "id": "a93b394f-6c64-4fe0-96b3-c185ea6103f2",
   "metadata": {},
   "outputs": [],
   "source": [
    "response = client.chat.completions.create(\n",
    "    model='gpt-4o',\n",
    "    messages=[{\"role\": \"user\", \"content\": \"Is it too late to join the course\"}]\n",
    ")"
   ]
  },
  {
   "cell_type": "code",
   "execution_count": 4,
   "id": "8f127a99-a9b6-4513-97eb-bfe511534e85",
   "metadata": {},
   "outputs": [],
   "source": [
    "api_key = os.getenv(\"AZURE_OPENAI_API_KEY\")\n",
    "api_base = os.getenv(\"AZURE_OPENAI_API_BASE\")\n",
    "api_version = os.getenv(\"AZURE_OPENAI_API_VERSION\")\n",
    "\n",
    "# Authenticate to Azure OpenAI\n",
    "client = openai.AzureOpenAI(\n",
    "    api_key = api_key,\n",
    "    api_version= api_version,\n",
    "    azure_endpoint= api_base\n",
    ")"
   ]
  },
  {
   "cell_type": "code",
   "execution_count": 6,
   "id": "0c1dc222-90f4-491c-8a7f-6b8d86fdc10a",
   "metadata": {},
   "outputs": [],
   "source": [
    "response = client.chat.completions.create(\n",
    "        model=\"gpt-4o\", \n",
    "        messages=[{\"role\": \"user\", \"content\": \"Is it too late to join the course\"}]\n",
    "    )"
   ]
  },
  {
   "cell_type": "code",
   "execution_count": 10,
   "id": "aec596b5-b2ac-4310-a8e1-d67f3755c826",
   "metadata": {},
   "outputs": [
    {
     "data": {
      "text/plain": [
       "\"Could you provide more details about the course you're referring to? The answer depends on the specific course, its enrollment deadline, and requirements. Many courses have fixed registration dates, while others (like online or self-paced programs) may allow late joiners. If the course has already started, it's possible you can still register, but you might need to catch up on any missed content.\\n\\nLet me know more details, and I’ll help you figure it out!\""
      ]
     },
     "execution_count": 10,
     "metadata": {},
     "output_type": "execute_result"
    }
   ],
   "source": [
    "response.choices[0].message.content"
   ]
  },
  {
   "cell_type": "code",
   "execution_count": null,
   "id": "a1c7b68b-d626-4e78-95cc-c2d87bd07800",
   "metadata": {},
   "outputs": [],
   "source": []
  }
 ],
 "metadata": {
  "kernelspec": {
   "display_name": "Python 3 (ipykernel)",
   "language": "python",
   "name": "python3"
  },
  "language_info": {
   "codemirror_mode": {
    "name": "ipython",
    "version": 3
   },
   "file_extension": ".py",
   "mimetype": "text/x-python",
   "name": "python",
   "nbconvert_exporter": "python",
   "pygments_lexer": "ipython3",
   "version": "3.12.10"
  }
 },
 "nbformat": 4,
 "nbformat_minor": 5
}
