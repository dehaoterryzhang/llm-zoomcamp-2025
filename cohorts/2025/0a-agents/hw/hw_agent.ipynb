{
 "cells": [
  {
   "cell_type": "code",
   "execution_count": 1,
   "id": "55139d58",
   "metadata": {},
   "outputs": [],
   "source": [
    "import random\n",
    "\n",
    "known_weather_data = {\n",
    "    'berlin': 20.0\n",
    "}\n",
    "\n",
    "def get_weather(city: str) -> float:\n",
    "    city = city.strip().lower()\n",
    "\n",
    "    if city in known_weather_data:\n",
    "        return known_weather_data[city]\n",
    "\n",
    "    return round(random.uniform(-5, 35), 1)"
   ]
  },
  {
   "cell_type": "code",
   "execution_count": 2,
   "id": "70f172e9",
   "metadata": {},
   "outputs": [
    {
     "data": {
      "text/plain": [
       "'\\nget_weather_tool = {\\n    \"type\": \"function\",\\n    \"name\": \"get_weather\",\\n    \"description\": \"Get the current weather for a specific city or generate fake data\",\\n    \"parameters\": {\\n        \"type\": \"object\",\\n        \"properties\": {\\n            \"city\": {\\n                \"type\": \"string\",\\n                \"description\": \"The name of the city to get the weather for.\"\\n            }\\n        },\\n        \"required\": [\"city\"],\\n        \"additionalProperties\": False\\n    }\\n}\\n'"
      ]
     },
     "execution_count": 2,
     "metadata": {},
     "output_type": "execute_result"
    }
   ],
   "source": [
    "'''\n",
    "get_weather_tool = {\n",
    "    \"type\": \"function\",\n",
    "    \"name\": \"get_weather\",\n",
    "    \"description\": \"Get the current weather for a specific city or generate fake data\",\n",
    "    \"parameters\": {\n",
    "        \"type\": \"object\",\n",
    "        \"properties\": {\n",
    "            \"city\": {\n",
    "                \"type\": \"string\",\n",
    "                \"description\": \"The name of the city to get the weather for.\"\n",
    "            }\n",
    "        },\n",
    "        \"required\": [\"city\"],\n",
    "        \"additionalProperties\": False\n",
    "    }\n",
    "}\n",
    "'''"
   ]
  },
  {
   "cell_type": "code",
   "execution_count": 3,
   "id": "368ac722",
   "metadata": {},
   "outputs": [],
   "source": [
    "\n",
    "get_weather_tool = {\n",
    "    \"type\": \"function\",\n",
    "    \"function\": {\n",
    "        \"name\": \"get_weather\",\n",
    "        \"description\": \"Get the current weather for a specific city or generate fake data\",\n",
    "        \"parameters\": {\n",
    "            \"type\": \"object\",\n",
    "            \"properties\": {\n",
    "                \"city\": {\n",
    "                    \"type\": \"string\",\n",
    "                    \"description\": \"The name of the city to get the weather for.\"\n",
    "                },\n",
    "            },\n",
    "            \"required\": [\"city\"],\n",
    "            \"additionalProperties\": False\n",
    "        },\n",
    "    }\n",
    "}\n"
   ]
  },
  {
   "cell_type": "markdown",
   "id": "60537f77",
   "metadata": {},
   "source": [
    "TODO3 is city as it's the main parameter for the get_weather function"
   ]
  },
  {
   "cell_type": "code",
   "execution_count": 4,
   "id": "3e236a6d",
   "metadata": {},
   "outputs": [],
   "source": [
    "#!curl -O https://raw.githubusercontent.com/alexeygrigorev/rag-agents-workshop/refs/heads/main/chat_assistant.py"
   ]
  },
  {
   "cell_type": "code",
   "execution_count": 5,
   "id": "88edfd69",
   "metadata": {},
   "outputs": [],
   "source": [
    "#!pip install markdown"
   ]
  },
  {
   "cell_type": "code",
   "execution_count": 6,
   "id": "03b9c038",
   "metadata": {},
   "outputs": [],
   "source": [
    "#from chat_assistant import Tools, ChatAssistant, ChatInterface\n",
    "from chat_assistant2 import Tools, ChatAssistant, ChatInterface"
   ]
  },
  {
   "cell_type": "code",
   "execution_count": 7,
   "id": "759d2fc8",
   "metadata": {},
   "outputs": [],
   "source": [
    "tools = Tools()\n",
    "tools.add_tool(get_weather, get_weather_tool)"
   ]
  },
  {
   "cell_type": "code",
   "execution_count": 8,
   "id": "d942ffa6",
   "metadata": {},
   "outputs": [],
   "source": [
    "import os\n",
    "from dotenv import load_dotenv"
   ]
  },
  {
   "cell_type": "code",
   "execution_count": 9,
   "id": "eba8bed8",
   "metadata": {},
   "outputs": [
    {
     "data": {
      "text/plain": [
       "True"
      ]
     },
     "execution_count": 9,
     "metadata": {},
     "output_type": "execute_result"
    }
   ],
   "source": [
    "load_dotenv(os.path.abspath(\"../../../../.env\"))"
   ]
  },
  {
   "cell_type": "code",
   "execution_count": 10,
   "id": "55f0543e",
   "metadata": {},
   "outputs": [],
   "source": [
    "api_key = os.getenv(\"AZURE_OPENAI_API_KEY\")\n",
    "api_base = os.getenv(\"AZURE_OPENAI_API_BASE\")\n",
    "api_version = os.getenv(\"AZURE_OPENAI_API_VERSION\")"
   ]
  },
  {
   "cell_type": "code",
   "execution_count": 11,
   "id": "49d55e58",
   "metadata": {},
   "outputs": [],
   "source": [
    "import openai"
   ]
  },
  {
   "cell_type": "code",
   "execution_count": 12,
   "id": "69ccaa40",
   "metadata": {},
   "outputs": [],
   "source": [
    "client = openai.AzureOpenAI(\n",
    "    api_key = api_key,\n",
    "    api_version= api_version,\n",
    "    azure_endpoint= api_base\n",
    ")"
   ]
  },
  {
   "cell_type": "code",
   "execution_count": 13,
   "id": "cd8cb72d",
   "metadata": {},
   "outputs": [],
   "source": [
    "developer_prompt = \"\"\"\n",
    "You're a weather assistant. \n",
    "You're given a question from user about weather for a city and your task is to answer it.\n",
    "Use search_weather tool if your own knowledge is not sufficient to answer the question.\n",
    "\"\"\".strip()"
   ]
  },
  {
   "cell_type": "code",
   "execution_count": 14,
   "id": "d0c9e509",
   "metadata": {},
   "outputs": [],
   "source": [
    "chat_interface = ChatInterface()\n",
    "\n",
    "chat = ChatAssistant(\n",
    "    tools=tools,\n",
    "    developer_prompt=developer_prompt,\n",
    "    chat_interface=chat_interface,\n",
    "    client=client\n",
    ")"
   ]
  },
  {
   "cell_type": "code",
   "execution_count": 15,
   "id": "17a0520e",
   "metadata": {},
   "outputs": [
    {
     "data": {
      "text/plain": [
       "'\\nresponse = client.chat.completions.create(\\n    model=\\'gpt-4o\\',\\n    messages=[{\"role\": \"user\", \"content\": \"Is it too late to join the course\"}]\\n)\\nresponse\\n'"
      ]
     },
     "execution_count": 15,
     "metadata": {},
     "output_type": "execute_result"
    }
   ],
   "source": [
    "'''\n",
    "response = client.chat.completions.create(\n",
    "    model='gpt-4o',\n",
    "    messages=[{\"role\": \"user\", \"content\": \"Is it too late to join the course\"}]\n",
    ")\n",
    "response\n",
    "'''"
   ]
  },
  {
   "cell_type": "code",
   "execution_count": 16,
   "id": "0932e3b0",
   "metadata": {},
   "outputs": [
    {
     "data": {
      "text/plain": [
       "[{'type': 'function',\n",
       "  'function': {'name': 'get_weather',\n",
       "   'description': 'Get the current weather for a specific city or generate fake data',\n",
       "   'parameters': {'type': 'object',\n",
       "    'properties': {'city': {'type': 'string',\n",
       "      'description': 'The name of the city to get the weather for.'}},\n",
       "    'required': ['city'],\n",
       "    'additionalProperties': False}}}]"
      ]
     },
     "execution_count": 16,
     "metadata": {},
     "output_type": "execute_result"
    }
   ],
   "source": [
    "tools.get_tools()"
   ]
  },
  {
   "cell_type": "code",
   "execution_count": 17,
   "id": "77873cb8",
   "metadata": {},
   "outputs": [
    {
     "name": "stdout",
     "output_type": "stream",
     "text": [
      "[{'role': 'developer', 'content': \"You're a weather assistant. \\nYou're given a question from user about weather for a city and your task is to answer it.\\nUse search_weather tool if your own knowledge is not sufficient to answer the question.\"}, {'role': 'user', 'content': \"What's the weather in Germany\"}]\n",
      "[{'type': 'function', 'function': {'name': 'get_weather', 'description': 'Get the current weather for a specific city or generate fake data', 'parameters': {'type': 'object', 'properties': {'city': {'type': 'string', 'description': 'The name of the city to get the weather for.'}}, 'required': ['city'], 'additionalProperties': False}}}]\n",
      "Model's response:\n",
      "ChatCompletionMessage(content=None, refusal=None, role='assistant', annotations=[], audio=None, function_call=None, tool_calls=[ChatCompletionMessageFunctionToolCall(id='call_ur9SuQ4Z2GaTZ2bpiCzbwjyB', function=Function(arguments='{\"city\":\"Germany\"}', name='get_weather'), type='function')])\n"
     ]
    },
    {
     "data": {
      "text/html": [
       "\n",
       "            <details>\n",
       "            <summary>Function call: <tt>get_weather({\"city\":\"Germany\"})</tt></summary>\n",
       "            <div>\n",
       "                <b>Call</b>\n",
       "                <pre>ChatCompletionMessageFunctionToolCall(id='call_ur9SuQ4Z2GaTZ2bpiCzbwjyB', function=Function(arguments='{\"city\":\"Germany\"}', name='get_weather'), type='function')</pre>\n",
       "            </div>\n",
       "            <div>\n",
       "                <b>Output</b>\n",
       "                <pre>16.0</pre>\n",
       "            </div>\n",
       "            \n",
       "            </details>\n",
       "        "
      ],
      "text/plain": [
       "<IPython.core.display.HTML object>"
      ]
     },
     "metadata": {},
     "output_type": "display_data"
    },
    {
     "name": "stdout",
     "output_type": "stream",
     "text": [
      "[{'role': 'developer', 'content': \"You're a weather assistant. \\nYou're given a question from user about weather for a city and your task is to answer it.\\nUse search_weather tool if your own knowledge is not sufficient to answer the question.\"}, {'role': 'user', 'content': \"What's the weather in Germany\"}, ChatCompletionMessage(content=None, refusal=None, role='assistant', annotations=[], audio=None, function_call=None, tool_calls=[ChatCompletionMessageFunctionToolCall(id='call_ur9SuQ4Z2GaTZ2bpiCzbwjyB', function=Function(arguments='{\"city\":\"Germany\"}', name='get_weather'), type='function')]), {'role': 'tool', 'tool_call_id': 'call_ur9SuQ4Z2GaTZ2bpiCzbwjyB', 'content': '16.0'}]\n",
      "[{'type': 'function', 'function': {'name': 'get_weather', 'description': 'Get the current weather for a specific city or generate fake data', 'parameters': {'type': 'object', 'properties': {'city': {'type': 'string', 'description': 'The name of the city to get the weather for.'}}, 'required': ['city'], 'additionalProperties': False}}}]\n",
      "Model's response:\n",
      "ChatCompletionMessage(content='The weather in Germany is currently 16°C. If you need more details about specific cities or regions, let me know!', refusal=None, role='assistant', annotations=[], audio=None, function_call=None, tool_calls=None)\n"
     ]
    },
    {
     "data": {
      "text/html": [
       "\n",
       "            <div>\n",
       "                <div><b>Assistant:</b></div>\n",
       "                <div><p>The weather in Germany is currently 16°C. If you need more details about specific cities or regions, let me know!</p></div>\n",
       "            </div>\n",
       "        "
      ],
      "text/plain": [
       "<IPython.core.display.HTML object>"
      ]
     },
     "metadata": {},
     "output_type": "display_data"
    },
    {
     "name": "stdout",
     "output_type": "stream",
     "text": [
      "[{'role': 'developer', 'content': \"You're a weather assistant. \\nYou're given a question from user about weather for a city and your task is to answer it.\\nUse search_weather tool if your own knowledge is not sufficient to answer the question.\"}, {'role': 'user', 'content': \"What's the weather in Germany\"}, ChatCompletionMessage(content=None, refusal=None, role='assistant', annotations=[], audio=None, function_call=None, tool_calls=[ChatCompletionMessageFunctionToolCall(id='call_ur9SuQ4Z2GaTZ2bpiCzbwjyB', function=Function(arguments='{\"city\":\"Germany\"}', name='get_weather'), type='function')]), {'role': 'tool', 'tool_call_id': 'call_ur9SuQ4Z2GaTZ2bpiCzbwjyB', 'content': '16.0'}, ChatCompletionMessage(content='The weather in Germany is currently 16°C. If you need more details about specific cities or regions, let me know!', refusal=None, role='assistant', annotations=[], audio=None, function_call=None, tool_calls=None), {'role': 'user', 'content': \"What's the weather in Berlin\"}]\n",
      "[{'type': 'function', 'function': {'name': 'get_weather', 'description': 'Get the current weather for a specific city or generate fake data', 'parameters': {'type': 'object', 'properties': {'city': {'type': 'string', 'description': 'The name of the city to get the weather for.'}}, 'required': ['city'], 'additionalProperties': False}}}]\n",
      "Model's response:\n",
      "ChatCompletionMessage(content=None, refusal=None, role='assistant', annotations=[], audio=None, function_call=None, tool_calls=[ChatCompletionMessageFunctionToolCall(id='call_any49SskL8wVLjLtvRHPoMhZ', function=Function(arguments='{\"city\":\"Berlin\"}', name='get_weather'), type='function')])\n"
     ]
    },
    {
     "data": {
      "text/html": [
       "\n",
       "            <details>\n",
       "            <summary>Function call: <tt>get_weather({\"city\":\"Berlin\"})</tt></summary>\n",
       "            <div>\n",
       "                <b>Call</b>\n",
       "                <pre>ChatCompletionMessageFunctionToolCall(id='call_any49SskL8wVLjLtvRHPoMhZ', function=Function(arguments='{\"city\":\"Berlin\"}', name='get_weather'), type='function')</pre>\n",
       "            </div>\n",
       "            <div>\n",
       "                <b>Output</b>\n",
       "                <pre>20.0</pre>\n",
       "            </div>\n",
       "            \n",
       "            </details>\n",
       "        "
      ],
      "text/plain": [
       "<IPython.core.display.HTML object>"
      ]
     },
     "metadata": {},
     "output_type": "display_data"
    },
    {
     "name": "stdout",
     "output_type": "stream",
     "text": [
      "[{'role': 'developer', 'content': \"You're a weather assistant. \\nYou're given a question from user about weather for a city and your task is to answer it.\\nUse search_weather tool if your own knowledge is not sufficient to answer the question.\"}, {'role': 'user', 'content': \"What's the weather in Germany\"}, ChatCompletionMessage(content=None, refusal=None, role='assistant', annotations=[], audio=None, function_call=None, tool_calls=[ChatCompletionMessageFunctionToolCall(id='call_ur9SuQ4Z2GaTZ2bpiCzbwjyB', function=Function(arguments='{\"city\":\"Germany\"}', name='get_weather'), type='function')]), {'role': 'tool', 'tool_call_id': 'call_ur9SuQ4Z2GaTZ2bpiCzbwjyB', 'content': '16.0'}, ChatCompletionMessage(content='The weather in Germany is currently 16°C. If you need more details about specific cities or regions, let me know!', refusal=None, role='assistant', annotations=[], audio=None, function_call=None, tool_calls=None), {'role': 'user', 'content': \"What's the weather in Berlin\"}, ChatCompletionMessage(content=None, refusal=None, role='assistant', annotations=[], audio=None, function_call=None, tool_calls=[ChatCompletionMessageFunctionToolCall(id='call_any49SskL8wVLjLtvRHPoMhZ', function=Function(arguments='{\"city\":\"Berlin\"}', name='get_weather'), type='function')]), {'role': 'tool', 'tool_call_id': 'call_any49SskL8wVLjLtvRHPoMhZ', 'content': '20.0'}]\n",
      "[{'type': 'function', 'function': {'name': 'get_weather', 'description': 'Get the current weather for a specific city or generate fake data', 'parameters': {'type': 'object', 'properties': {'city': {'type': 'string', 'description': 'The name of the city to get the weather for.'}}, 'required': ['city'], 'additionalProperties': False}}}]\n",
      "Model's response:\n",
      "ChatCompletionMessage(content='The current weather in Berlin is 20°C. Let me know if you need further details!', refusal=None, role='assistant', annotations=[], audio=None, function_call=None, tool_calls=None)\n"
     ]
    },
    {
     "data": {
      "text/html": [
       "\n",
       "            <div>\n",
       "                <div><b>Assistant:</b></div>\n",
       "                <div><p>The current weather in Berlin is 20°C. Let me know if you need further details!</p></div>\n",
       "            </div>\n",
       "        "
      ],
      "text/plain": [
       "<IPython.core.display.HTML object>"
      ]
     },
     "metadata": {},
     "output_type": "display_data"
    },
    {
     "name": "stdout",
     "output_type": "stream",
     "text": [
      "Chat ended.\n"
     ]
    }
   ],
   "source": [
    "chat.run()"
   ]
  },
  {
   "cell_type": "code",
   "execution_count": 18,
   "id": "c9076b91",
   "metadata": {},
   "outputs": [],
   "source": [
    "def set_weather(city: str, temp: float) -> None:\n",
    "    city = city.strip().lower()\n",
    "    known_weather_data[city] = temp\n",
    "    return 'OK'"
   ]
  },
  {
   "cell_type": "code",
   "execution_count": 19,
   "id": "b01f9a0d",
   "metadata": {},
   "outputs": [],
   "source": [
    "set_weather_tool = {\n",
    "    \"type\": \"function\",\n",
    "    \"function\": {\n",
    "        \"name\": \"set_weather\",\n",
    "        \"description\": \"Set the current weather for a specific city\",\n",
    "        \"parameters\": {\n",
    "            \"type\": \"object\",\n",
    "            \"properties\": {\n",
    "                \"city\": {\n",
    "                    \"type\": \"string\",\n",
    "                    \"description\": \"The name of the city to set the weather for.\"\n",
    "                },\n",
    "                \"temp\": {\n",
    "                    \"type\": \"number\",\n",
    "                    \"description\": \"The temperature to set for the city.\"\n",
    "                }\n",
    "            },\n",
    "            \"required\": [\"city\", \"temp\"],\n",
    "            \"additionalProperties\": False\n",
    "        },\n",
    "    }\n",
    "}"
   ]
  },
  {
   "cell_type": "code",
   "execution_count": 20,
   "id": "ee020155",
   "metadata": {},
   "outputs": [],
   "source": [
    "developer_prompt = \"\"\"\n",
    "You're a weather assistant. \n",
    "You have access to a weather database with current city temperatures and can set new temperatures if the user asks.\n",
    "\"\"\".strip()"
   ]
  },
  {
   "cell_type": "code",
   "execution_count": 21,
   "id": "87f3e386",
   "metadata": {},
   "outputs": [],
   "source": [
    "tools.add_tool(set_weather, set_weather_tool)"
   ]
  },
  {
   "cell_type": "code",
   "execution_count": 22,
   "id": "05e42a90",
   "metadata": {},
   "outputs": [],
   "source": [
    "chat_interface = ChatInterface()\n",
    "\n",
    "chat = ChatAssistant(\n",
    "    tools=tools,\n",
    "    developer_prompt=developer_prompt,\n",
    "    chat_interface=chat_interface,\n",
    "    client=client\n",
    ")"
   ]
  },
  {
   "cell_type": "code",
   "execution_count": 23,
   "id": "9abfa341",
   "metadata": {},
   "outputs": [
    {
     "data": {
      "text/plain": [
       "[{'type': 'function',\n",
       "  'function': {'name': 'get_weather',\n",
       "   'description': 'Get the current weather for a specific city or generate fake data',\n",
       "   'parameters': {'type': 'object',\n",
       "    'properties': {'city': {'type': 'string',\n",
       "      'description': 'The name of the city to get the weather for.'}},\n",
       "    'required': ['city'],\n",
       "    'additionalProperties': False}}},\n",
       " {'type': 'function',\n",
       "  'function': {'name': 'set_weather',\n",
       "   'description': 'Set the current weather for a specific city',\n",
       "   'parameters': {'type': 'object',\n",
       "    'properties': {'city': {'type': 'string',\n",
       "      'description': 'The name of the city to set the weather for.'},\n",
       "     'temp': {'type': 'number',\n",
       "      'description': 'The temperature to set for the city.'}},\n",
       "    'required': ['city', 'temp'],\n",
       "    'additionalProperties': False}}}]"
      ]
     },
     "execution_count": 23,
     "metadata": {},
     "output_type": "execute_result"
    }
   ],
   "source": [
    "tools.get_tools()"
   ]
  },
  {
   "cell_type": "code",
   "execution_count": 24,
   "id": "80b5aa5c",
   "metadata": {},
   "outputs": [
    {
     "name": "stdout",
     "output_type": "stream",
     "text": [
      "[{'role': 'developer', 'content': \"You're a weather assistant. \\nYou have access to a weather database with current city temperatures and can set new temperatures if the user asks.\"}, {'role': 'user', 'content': \"What's the weather in Berlin\"}]\n",
      "[{'type': 'function', 'function': {'name': 'get_weather', 'description': 'Get the current weather for a specific city or generate fake data', 'parameters': {'type': 'object', 'properties': {'city': {'type': 'string', 'description': 'The name of the city to get the weather for.'}}, 'required': ['city'], 'additionalProperties': False}}}, {'type': 'function', 'function': {'name': 'set_weather', 'description': 'Set the current weather for a specific city', 'parameters': {'type': 'object', 'properties': {'city': {'type': 'string', 'description': 'The name of the city to set the weather for.'}, 'temp': {'type': 'number', 'description': 'The temperature to set for the city.'}}, 'required': ['city', 'temp'], 'additionalProperties': False}}}]\n",
      "Model's response:\n",
      "ChatCompletionMessage(content=None, refusal=None, role='assistant', annotations=[], audio=None, function_call=None, tool_calls=[ChatCompletionMessageFunctionToolCall(id='call_ueFlB7tKCTo7cqcmJtPRRHfj', function=Function(arguments='{\"city\":\"Berlin\"}', name='get_weather'), type='function')])\n"
     ]
    },
    {
     "data": {
      "text/html": [
       "\n",
       "            <details>\n",
       "            <summary>Function call: <tt>get_weather({\"city\":\"Berlin\"})</tt></summary>\n",
       "            <div>\n",
       "                <b>Call</b>\n",
       "                <pre>ChatCompletionMessageFunctionToolCall(id='call_ueFlB7tKCTo7cqcmJtPRRHfj', function=Function(arguments='{\"city\":\"Berlin\"}', name='get_weather'), type='function')</pre>\n",
       "            </div>\n",
       "            <div>\n",
       "                <b>Output</b>\n",
       "                <pre>20.0</pre>\n",
       "            </div>\n",
       "            \n",
       "            </details>\n",
       "        "
      ],
      "text/plain": [
       "<IPython.core.display.HTML object>"
      ]
     },
     "metadata": {},
     "output_type": "display_data"
    },
    {
     "name": "stdout",
     "output_type": "stream",
     "text": [
      "[{'role': 'developer', 'content': \"You're a weather assistant. \\nYou have access to a weather database with current city temperatures and can set new temperatures if the user asks.\"}, {'role': 'user', 'content': \"What's the weather in Berlin\"}, ChatCompletionMessage(content=None, refusal=None, role='assistant', annotations=[], audio=None, function_call=None, tool_calls=[ChatCompletionMessageFunctionToolCall(id='call_ueFlB7tKCTo7cqcmJtPRRHfj', function=Function(arguments='{\"city\":\"Berlin\"}', name='get_weather'), type='function')]), {'role': 'tool', 'tool_call_id': 'call_ueFlB7tKCTo7cqcmJtPRRHfj', 'content': '20.0'}]\n",
      "[{'type': 'function', 'function': {'name': 'get_weather', 'description': 'Get the current weather for a specific city or generate fake data', 'parameters': {'type': 'object', 'properties': {'city': {'type': 'string', 'description': 'The name of the city to get the weather for.'}}, 'required': ['city'], 'additionalProperties': False}}}, {'type': 'function', 'function': {'name': 'set_weather', 'description': 'Set the current weather for a specific city', 'parameters': {'type': 'object', 'properties': {'city': {'type': 'string', 'description': 'The name of the city to set the weather for.'}, 'temp': {'type': 'number', 'description': 'The temperature to set for the city.'}}, 'required': ['city', 'temp'], 'additionalProperties': False}}}]\n",
      "Model's response:\n",
      "ChatCompletionMessage(content='The current temperature in Berlin is 20°C.', refusal=None, role='assistant', annotations=[], audio=None, function_call=None, tool_calls=None)\n"
     ]
    },
    {
     "data": {
      "text/html": [
       "\n",
       "            <div>\n",
       "                <div><b>Assistant:</b></div>\n",
       "                <div><p>The current temperature in Berlin is 20°C.</p></div>\n",
       "            </div>\n",
       "        "
      ],
      "text/plain": [
       "<IPython.core.display.HTML object>"
      ]
     },
     "metadata": {},
     "output_type": "display_data"
    },
    {
     "name": "stdout",
     "output_type": "stream",
     "text": [
      "[{'role': 'developer', 'content': \"You're a weather assistant. \\nYou have access to a weather database with current city temperatures and can set new temperatures if the user asks.\"}, {'role': 'user', 'content': \"What's the weather in Berlin\"}, ChatCompletionMessage(content=None, refusal=None, role='assistant', annotations=[], audio=None, function_call=None, tool_calls=[ChatCompletionMessageFunctionToolCall(id='call_ueFlB7tKCTo7cqcmJtPRRHfj', function=Function(arguments='{\"city\":\"Berlin\"}', name='get_weather'), type='function')]), {'role': 'tool', 'tool_call_id': 'call_ueFlB7tKCTo7cqcmJtPRRHfj', 'content': '20.0'}, ChatCompletionMessage(content='The current temperature in Berlin is 20°C.', refusal=None, role='assistant', annotations=[], audio=None, function_call=None, tool_calls=None), {'role': 'user', 'content': \"Set Beijing's temperature to be 25\"}]\n",
      "[{'type': 'function', 'function': {'name': 'get_weather', 'description': 'Get the current weather for a specific city or generate fake data', 'parameters': {'type': 'object', 'properties': {'city': {'type': 'string', 'description': 'The name of the city to get the weather for.'}}, 'required': ['city'], 'additionalProperties': False}}}, {'type': 'function', 'function': {'name': 'set_weather', 'description': 'Set the current weather for a specific city', 'parameters': {'type': 'object', 'properties': {'city': {'type': 'string', 'description': 'The name of the city to set the weather for.'}, 'temp': {'type': 'number', 'description': 'The temperature to set for the city.'}}, 'required': ['city', 'temp'], 'additionalProperties': False}}}]\n",
      "Model's response:\n",
      "ChatCompletionMessage(content=None, refusal=None, role='assistant', annotations=[], audio=None, function_call=None, tool_calls=[ChatCompletionMessageFunctionToolCall(id='call_YDdOcdigSSgUfP3BXDDz186y', function=Function(arguments='{\"city\":\"Beijing\",\"temp\":25}', name='set_weather'), type='function')])\n"
     ]
    },
    {
     "data": {
      "text/html": [
       "\n",
       "            <details>\n",
       "            <summary>Function call: <tt>set_weather({\"city\":\"Beijing\",\"temp\":25})</tt></summary>\n",
       "            <div>\n",
       "                <b>Call</b>\n",
       "                <pre>ChatCompletionMessageFunctionToolCall(id='call_YDdOcdigSSgUfP3BXDDz186y', function=Function(arguments='{\"city\":\"Beijing\",\"temp\":25}', name='set_weather'), type='function')</pre>\n",
       "            </div>\n",
       "            <div>\n",
       "                <b>Output</b>\n",
       "                <pre>\"OK\"</pre>\n",
       "            </div>\n",
       "            \n",
       "            </details>\n",
       "        "
      ],
      "text/plain": [
       "<IPython.core.display.HTML object>"
      ]
     },
     "metadata": {},
     "output_type": "display_data"
    },
    {
     "name": "stdout",
     "output_type": "stream",
     "text": [
      "[{'role': 'developer', 'content': \"You're a weather assistant. \\nYou have access to a weather database with current city temperatures and can set new temperatures if the user asks.\"}, {'role': 'user', 'content': \"What's the weather in Berlin\"}, ChatCompletionMessage(content=None, refusal=None, role='assistant', annotations=[], audio=None, function_call=None, tool_calls=[ChatCompletionMessageFunctionToolCall(id='call_ueFlB7tKCTo7cqcmJtPRRHfj', function=Function(arguments='{\"city\":\"Berlin\"}', name='get_weather'), type='function')]), {'role': 'tool', 'tool_call_id': 'call_ueFlB7tKCTo7cqcmJtPRRHfj', 'content': '20.0'}, ChatCompletionMessage(content='The current temperature in Berlin is 20°C.', refusal=None, role='assistant', annotations=[], audio=None, function_call=None, tool_calls=None), {'role': 'user', 'content': \"Set Beijing's temperature to be 25\"}, ChatCompletionMessage(content=None, refusal=None, role='assistant', annotations=[], audio=None, function_call=None, tool_calls=[ChatCompletionMessageFunctionToolCall(id='call_YDdOcdigSSgUfP3BXDDz186y', function=Function(arguments='{\"city\":\"Beijing\",\"temp\":25}', name='set_weather'), type='function')]), {'role': 'tool', 'tool_call_id': 'call_YDdOcdigSSgUfP3BXDDz186y', 'content': '\"OK\"'}]\n",
      "[{'type': 'function', 'function': {'name': 'get_weather', 'description': 'Get the current weather for a specific city or generate fake data', 'parameters': {'type': 'object', 'properties': {'city': {'type': 'string', 'description': 'The name of the city to get the weather for.'}}, 'required': ['city'], 'additionalProperties': False}}}, {'type': 'function', 'function': {'name': 'set_weather', 'description': 'Set the current weather for a specific city', 'parameters': {'type': 'object', 'properties': {'city': {'type': 'string', 'description': 'The name of the city to set the weather for.'}, 'temp': {'type': 'number', 'description': 'The temperature to set for the city.'}}, 'required': ['city', 'temp'], 'additionalProperties': False}}}]\n",
      "Model's response:\n",
      "ChatCompletionMessage(content=\"Beijing's temperature has been set to 25°C.\", refusal=None, role='assistant', annotations=[], audio=None, function_call=None, tool_calls=None)\n"
     ]
    },
    {
     "data": {
      "text/html": [
       "\n",
       "            <div>\n",
       "                <div><b>Assistant:</b></div>\n",
       "                <div><p>Beijing's temperature has been set to 25°C.</p></div>\n",
       "            </div>\n",
       "        "
      ],
      "text/plain": [
       "<IPython.core.display.HTML object>"
      ]
     },
     "metadata": {},
     "output_type": "display_data"
    },
    {
     "name": "stdout",
     "output_type": "stream",
     "text": [
      "[{'role': 'developer', 'content': \"You're a weather assistant. \\nYou have access to a weather database with current city temperatures and can set new temperatures if the user asks.\"}, {'role': 'user', 'content': \"What's the weather in Berlin\"}, ChatCompletionMessage(content=None, refusal=None, role='assistant', annotations=[], audio=None, function_call=None, tool_calls=[ChatCompletionMessageFunctionToolCall(id='call_ueFlB7tKCTo7cqcmJtPRRHfj', function=Function(arguments='{\"city\":\"Berlin\"}', name='get_weather'), type='function')]), {'role': 'tool', 'tool_call_id': 'call_ueFlB7tKCTo7cqcmJtPRRHfj', 'content': '20.0'}, ChatCompletionMessage(content='The current temperature in Berlin is 20°C.', refusal=None, role='assistant', annotations=[], audio=None, function_call=None, tool_calls=None), {'role': 'user', 'content': \"Set Beijing's temperature to be 25\"}, ChatCompletionMessage(content=None, refusal=None, role='assistant', annotations=[], audio=None, function_call=None, tool_calls=[ChatCompletionMessageFunctionToolCall(id='call_YDdOcdigSSgUfP3BXDDz186y', function=Function(arguments='{\"city\":\"Beijing\",\"temp\":25}', name='set_weather'), type='function')]), {'role': 'tool', 'tool_call_id': 'call_YDdOcdigSSgUfP3BXDDz186y', 'content': '\"OK\"'}, ChatCompletionMessage(content=\"Beijing's temperature has been set to 25°C.\", refusal=None, role='assistant', annotations=[], audio=None, function_call=None, tool_calls=None), {'role': 'user', 'content': \"What's the weather in Beijing\"}]\n",
      "[{'type': 'function', 'function': {'name': 'get_weather', 'description': 'Get the current weather for a specific city or generate fake data', 'parameters': {'type': 'object', 'properties': {'city': {'type': 'string', 'description': 'The name of the city to get the weather for.'}}, 'required': ['city'], 'additionalProperties': False}}}, {'type': 'function', 'function': {'name': 'set_weather', 'description': 'Set the current weather for a specific city', 'parameters': {'type': 'object', 'properties': {'city': {'type': 'string', 'description': 'The name of the city to set the weather for.'}, 'temp': {'type': 'number', 'description': 'The temperature to set for the city.'}}, 'required': ['city', 'temp'], 'additionalProperties': False}}}]\n",
      "Model's response:\n",
      "ChatCompletionMessage(content=None, refusal=None, role='assistant', annotations=[], audio=None, function_call=None, tool_calls=[ChatCompletionMessageFunctionToolCall(id='call_SPis3gtu4xom4V3nXXxxJ39l', function=Function(arguments='{\"city\":\"Beijing\"}', name='get_weather'), type='function')])\n"
     ]
    },
    {
     "data": {
      "text/html": [
       "\n",
       "            <details>\n",
       "            <summary>Function call: <tt>get_weather({\"city\":\"Beijing\"})</tt></summary>\n",
       "            <div>\n",
       "                <b>Call</b>\n",
       "                <pre>ChatCompletionMessageFunctionToolCall(id='call_SPis3gtu4xom4V3nXXxxJ39l', function=Function(arguments='{\"city\":\"Beijing\"}', name='get_weather'), type='function')</pre>\n",
       "            </div>\n",
       "            <div>\n",
       "                <b>Output</b>\n",
       "                <pre>25</pre>\n",
       "            </div>\n",
       "            \n",
       "            </details>\n",
       "        "
      ],
      "text/plain": [
       "<IPython.core.display.HTML object>"
      ]
     },
     "metadata": {},
     "output_type": "display_data"
    },
    {
     "name": "stdout",
     "output_type": "stream",
     "text": [
      "[{'role': 'developer', 'content': \"You're a weather assistant. \\nYou have access to a weather database with current city temperatures and can set new temperatures if the user asks.\"}, {'role': 'user', 'content': \"What's the weather in Berlin\"}, ChatCompletionMessage(content=None, refusal=None, role='assistant', annotations=[], audio=None, function_call=None, tool_calls=[ChatCompletionMessageFunctionToolCall(id='call_ueFlB7tKCTo7cqcmJtPRRHfj', function=Function(arguments='{\"city\":\"Berlin\"}', name='get_weather'), type='function')]), {'role': 'tool', 'tool_call_id': 'call_ueFlB7tKCTo7cqcmJtPRRHfj', 'content': '20.0'}, ChatCompletionMessage(content='The current temperature in Berlin is 20°C.', refusal=None, role='assistant', annotations=[], audio=None, function_call=None, tool_calls=None), {'role': 'user', 'content': \"Set Beijing's temperature to be 25\"}, ChatCompletionMessage(content=None, refusal=None, role='assistant', annotations=[], audio=None, function_call=None, tool_calls=[ChatCompletionMessageFunctionToolCall(id='call_YDdOcdigSSgUfP3BXDDz186y', function=Function(arguments='{\"city\":\"Beijing\",\"temp\":25}', name='set_weather'), type='function')]), {'role': 'tool', 'tool_call_id': 'call_YDdOcdigSSgUfP3BXDDz186y', 'content': '\"OK\"'}, ChatCompletionMessage(content=\"Beijing's temperature has been set to 25°C.\", refusal=None, role='assistant', annotations=[], audio=None, function_call=None, tool_calls=None), {'role': 'user', 'content': \"What's the weather in Beijing\"}, ChatCompletionMessage(content=None, refusal=None, role='assistant', annotations=[], audio=None, function_call=None, tool_calls=[ChatCompletionMessageFunctionToolCall(id='call_SPis3gtu4xom4V3nXXxxJ39l', function=Function(arguments='{\"city\":\"Beijing\"}', name='get_weather'), type='function')]), {'role': 'tool', 'tool_call_id': 'call_SPis3gtu4xom4V3nXXxxJ39l', 'content': '25'}]\n",
      "[{'type': 'function', 'function': {'name': 'get_weather', 'description': 'Get the current weather for a specific city or generate fake data', 'parameters': {'type': 'object', 'properties': {'city': {'type': 'string', 'description': 'The name of the city to get the weather for.'}}, 'required': ['city'], 'additionalProperties': False}}}, {'type': 'function', 'function': {'name': 'set_weather', 'description': 'Set the current weather for a specific city', 'parameters': {'type': 'object', 'properties': {'city': {'type': 'string', 'description': 'The name of the city to set the weather for.'}, 'temp': {'type': 'number', 'description': 'The temperature to set for the city.'}}, 'required': ['city', 'temp'], 'additionalProperties': False}}}]\n",
      "Model's response:\n",
      "ChatCompletionMessage(content='The current temperature in Beijing is 25°C.', refusal=None, role='assistant', annotations=[], audio=None, function_call=None, tool_calls=None)\n"
     ]
    },
    {
     "data": {
      "text/html": [
       "\n",
       "            <div>\n",
       "                <div><b>Assistant:</b></div>\n",
       "                <div><p>The current temperature in Beijing is 25°C.</p></div>\n",
       "            </div>\n",
       "        "
      ],
      "text/plain": [
       "<IPython.core.display.HTML object>"
      ]
     },
     "metadata": {},
     "output_type": "display_data"
    },
    {
     "name": "stdout",
     "output_type": "stream",
     "text": [
      "Chat ended.\n"
     ]
    }
   ],
   "source": [
    "chat.run()"
   ]
  },
  {
   "cell_type": "code",
   "execution_count": 25,
   "id": "1c38b7d4",
   "metadata": {},
   "outputs": [
    {
     "name": "stdout",
     "output_type": "stream",
     "text": [
      "2.12.0\n"
     ]
    }
   ],
   "source": [
    "import fastmcp\n",
    "print(fastmcp.__version__)"
   ]
  },
  {
   "cell_type": "code",
   "execution_count": null,
   "id": "cb816036",
   "metadata": {},
   "outputs": [],
   "source": [
    "#4 running weather_server.py gives out Starting MCP server 'Demo 🚀' with transport 'stdio'"
   ]
  },
  {
   "cell_type": "code",
   "execution_count": 33,
   "id": "4ba96cba",
   "metadata": {},
   "outputs": [
    {
     "name": "stdout",
     "output_type": "stream",
     "text": [
      "Available tools: [Tool(name='get_weather', title=None, description='Retrieves the temperature for a specified city.\\n\\nParameters:\\n    city (str): The name of the city for which to retrieve weather data.\\n\\nReturns:\\n    float: The temperature associated with the city.', inputSchema={'properties': {'city': {'title': 'City', 'type': 'string'}}, 'required': ['city'], 'type': 'object'}, outputSchema={'properties': {'result': {'title': 'Result', 'type': 'number'}}, 'required': ['result'], 'title': '_WrappedResult', 'type': 'object', 'x-fastmcp-wrap-result': True}, annotations=None, meta={'_fastmcp': {'tags': []}}), Tool(name='set_weather', title=None, description=\"Sets the temperature for a specified city.\\n\\nParameters:\\n    city (str): The name of the city for which to set the weather data.\\n    temp (float): The temperature to associate with the city.\\n\\nReturns:\\n    str: A confirmation string 'OK' indicating successful update.\", inputSchema={'properties': {'city': {'title': 'City', 'type': 'string'}, 'temp': {'title': 'Temp', 'type': 'number'}}, 'required': ['city', 'temp'], 'type': 'object'}, outputSchema=None, annotations=None, meta={'_fastmcp': {'tags': []}})]\n"
     ]
    }
   ],
   "source": [
    "import weather_server\n",
    "from fastmcp import Client\n",
    "\n",
    "async def main():\n",
    "    async with Client(weather_server.mcp) as mcp_client:\n",
    "        tools = await mcp_client.list_tools()\n",
    "        print(f\"Available tools: {tools}\")\n",
    "\n",
    "await main()"
   ]
  },
  {
   "cell_type": "code",
   "execution_count": null,
   "id": "abac712f",
   "metadata": {},
   "outputs": [],
   "source": []
  }
 ],
 "metadata": {
  "kernelspec": {
   "display_name": ".venv",
   "language": "python",
   "name": "python3"
  },
  "language_info": {
   "codemirror_mode": {
    "name": "ipython",
    "version": 3
   },
   "file_extension": ".py",
   "mimetype": "text/x-python",
   "name": "python",
   "nbconvert_exporter": "python",
   "pygments_lexer": "ipython3",
   "version": "3.12.10"
  }
 },
 "nbformat": 4,
 "nbformat_minor": 5
}
